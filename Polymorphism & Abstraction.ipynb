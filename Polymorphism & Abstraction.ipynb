{
 "cells": [
  {
   "cell_type": "markdown",
   "id": "145a2f98",
   "metadata": {},
   "source": [
    "# polymorphism"
   ]
  },
  {
   "cell_type": "markdown",
   "id": "5623b886",
   "metadata": {},
   "source": [
    "* Polymorphism is one of the distinct  features of OOPs\n",
    "* The purpose of Polymorphism   is that \"Efficient  Utilization of Memory Space (OR) Less Memory space is achieved\".\n",
    "----------------------------------------\n",
    "**Defination of Polymorphism:**\n",
    "\n",
    "* The Process of Representing \" One Form in multiple Forms \" is called Polymorphism.\n",
    "\n",
    "* The Polymorphism Principle is implemented(Bring into action) by Using \"Method Overriding\" feature of all OO Programming Languages.\n",
    "* In The definition of polymorphism, \"One Form\" represents \"Original Method\" and multiple forms represents Overridden Methods.\n",
    "* A \"Form\" is nothing but existence of a Method. if the method is existing in base class then it is called \"Original Method(one form)\" and if the method existing in derived class(es) then it is called \"Overridden Method(multiple Forms)\".\n"
   ]
  },
  {
   "cell_type": "markdown",
   "id": "ab6829be",
   "metadata": {},
   "source": [
    "**Number of approaches to call original methods / constructors  from Overridden methods / Constructors**\n",
    "* We have two approches to call original method / constructors of base class from overridden method / constructors of derived class. They are\n",
    "\n",
    "\t1) By using   super()\n",
    "\t2) By using Class Name\n",
    "------------------------------------------------------------------------\n",
    "**1) By using   super():**\n",
    "* super() is one of the pre-defined function, which is used for calling super class  original method / constructor from overridden method / constructors of derived class.\n",
    "\n",
    "Syntax1:-        super().methodname(list of values if any)\n",
    "\n",
    "Syntax2:-        super().__init__(list of values if any)\t\t\t\n",
    "\n",
    "**with super() we are able to call only immediate base class method  but unable to call Specified method of base Class . To do this we must use class name approach.**\n",
    "\n",
    "**2) By using Class Name:**\n",
    "\n",
    "* By using ClassName approach, we can call any base class method / constructor name from the context of derived class method / constructor names.\n",
    "\n",
    "Syntax1:-        ClassName.methodname(self, list of values if any)\n",
    "\n",
    "Syntax2:-        ClassName.__init__(self, list of values if any)"
   ]
  },
  {
   "cell_type": "markdown",
   "id": "90f96c86",
   "metadata": {},
   "source": [
    "### Method overriding method\n",
    "\n",
    "Method Overriding=Method Heading is same + Method Body is Different\n",
    "\t\t\t(OR)\n",
    "* The process of re-defining the original method of base class into various derived classes for performing different operations is called Method Overriding.\n",
    "* To use Method Overriding in python program we must apply Inheritance Principle.\n",
    "* Method Overriding used for implementing Polymorphism Principle.\n",
    "    ( PLOYMORPHISM<----METHOD OVERRIDING<-----INHERITANCE<----CLASS AND OBJECTS )"
   ]
  },
  {
   "cell_type": "markdown",
   "id": "087800ba",
   "metadata": {},
   "source": [
    "# method overriding\n",
    "\n",
    "The process of re-defining the original method of base class into various derived classes for performing different operations is called Method Overriding."
   ]
  },
  {
   "cell_type": "code",
   "execution_count": 2,
   "id": "8e2ef8d1",
   "metadata": {},
   "outputs": [],
   "source": [
    "class Fooclass:\n",
    "    def __init__(self,a,b):\n",
    "        self.a=a\n",
    "        self.b=b\n",
    "    def __init__(self,a,b,c,d):\n",
    "        self.m=a+b\n",
    "        self.n=c-d\n",
    "        \n",
    "    def foo(self):\n",
    "        print('hello')\n",
    "        \n",
    "        \n",
    "    def foo(self):\n",
    "        print('good morning')"
   ]
  },
  {
   "cell_type": "code",
   "execution_count": 4,
   "id": "da7ec50f",
   "metadata": {},
   "outputs": [],
   "source": [
    "x=Fooclass(5,10,9,7)"
   ]
  },
  {
   "cell_type": "code",
   "execution_count": 5,
   "id": "8bdbc462",
   "metadata": {},
   "outputs": [
    {
     "name": "stdout",
     "output_type": "stream",
     "text": [
      "good morning\n"
     ]
    }
   ],
   "source": [
    "x.foo()"
   ]
  },
  {
   "cell_type": "code",
   "execution_count": 6,
   "id": "2d8fdb61",
   "metadata": {},
   "outputs": [],
   "source": [
    "class Xclass(Fooclass):\n",
    "    def foo(self):\n",
    "        print('Baka!')"
   ]
  },
  {
   "cell_type": "code",
   "execution_count": 7,
   "id": "7ca90736",
   "metadata": {},
   "outputs": [],
   "source": [
    "x=Xclass(10,5,9,7)"
   ]
  },
  {
   "cell_type": "code",
   "execution_count": 8,
   "id": "f7a0574f",
   "metadata": {},
   "outputs": [
    {
     "name": "stdout",
     "output_type": "stream",
     "text": [
      "Baka!\n"
     ]
    }
   ],
   "source": [
    "x.foo()"
   ]
  },
  {
   "cell_type": "markdown",
   "id": "e876365c",
   "metadata": {},
   "source": [
    "# Operator overloading\n",
    "\n",
    "Two or more methods have the same name but different numbers of parameters or different types of parameters, or both. These methods are called overloaded methods and this is called method overloading."
   ]
  },
  {
   "cell_type": "code",
   "execution_count": 10,
   "id": "d6e9fe8a",
   "metadata": {},
   "outputs": [],
   "source": [
    "class mylist:\n",
    "    def __init__(self,value):\n",
    "        self.val=value\n",
    "        \n",
    "    def __mul__(self,otherlist):\n",
    "        return [i*j for i,j in zip(self.val,otherlist.val)]"
   ]
  },
  {
   "cell_type": "code",
   "execution_count": 11,
   "id": "2c3495ae",
   "metadata": {},
   "outputs": [],
   "source": [
    "x,y=mylist([1,2,3]),mylist([4,5,6])\n"
   ]
  },
  {
   "cell_type": "code",
   "execution_count": 12,
   "id": "c2e1a25b",
   "metadata": {},
   "outputs": [
    {
     "data": {
      "text/plain": [
       "[4, 10, 18]"
      ]
     },
     "execution_count": 12,
     "metadata": {},
     "output_type": "execute_result"
    }
   ],
   "source": [
    "x * y"
   ]
  },
  {
   "cell_type": "markdown",
   "id": "32fd1f4d",
   "metadata": {},
   "source": [
    "# method overloading\n",
    "\n",
    "Two or more methods have the same name but different numbers of parameters or different types of parameters, or both. These methods are called overloaded methods and this is called method overloading."
   ]
  },
  {
   "cell_type": "code",
   "execution_count": 13,
   "id": "0ee979fe",
   "metadata": {},
   "outputs": [],
   "source": [
    "import multipledispatch\n",
    "from multipledispatch import dispatch"
   ]
  },
  {
   "cell_type": "code",
   "execution_count": 14,
   "id": "47d0a4f2",
   "metadata": {},
   "outputs": [],
   "source": [
    "class MyClass:\n",
    "    def __init__(self,a,b):\n",
    "        self.a=a\n",
    "        self.b=b\n",
    "        \n",
    "    @dispatch(int,int)   \n",
    "    def foo(self,x,y):\n",
    "        return x+y\n",
    "    \n",
    "    @dispatch(set,set)\n",
    "    def foo(self,m,n):\n",
    "        return m.union(n)\n",
    "        "
   ]
  },
  {
   "cell_type": "code",
   "execution_count": 15,
   "id": "c343cbe9",
   "metadata": {},
   "outputs": [],
   "source": [
    "x=MyClass(5,10)"
   ]
  },
  {
   "cell_type": "code",
   "execution_count": 16,
   "id": "48e14a20",
   "metadata": {},
   "outputs": [
    {
     "data": {
      "text/plain": [
       "5"
      ]
     },
     "execution_count": 16,
     "metadata": {},
     "output_type": "execute_result"
    }
   ],
   "source": [
    "x.foo(2,3)"
   ]
  },
  {
   "cell_type": "code",
   "execution_count": 17,
   "id": "08f0d6b1",
   "metadata": {},
   "outputs": [
    {
     "data": {
      "text/plain": [
       "{1, 2, 3, 4, 5, 6}"
      ]
     },
     "execution_count": 17,
     "metadata": {},
     "output_type": "execute_result"
    }
   ],
   "source": [
    "x.foo({1,2,3},{4,5,6})"
   ]
  },
  {
   "cell_type": "code",
   "execution_count": 18,
   "id": "388b222e",
   "metadata": {},
   "outputs": [],
   "source": [
    "class MyClass:\n",
    "    def __init__(self,a,b):\n",
    "        self.a=a\n",
    "        self.b=b\n",
    "        \n",
    "    @dispatch(int,int)   \n",
    "    def foo(self,x,y):\n",
    "        return x * y\n",
    "    \n",
    "    @dispatch(set,set)\n",
    "    def foo(self,m,n):\n",
    "        return m.union(n)\n",
    "    \n",
    "    @dispatch(str,str)\n",
    "    def foo(self,m,n):\n",
    "        return m+n\n",
    "        \n",
    "    @dispatch(int,int,int)   \n",
    "    def foo(self,x,y,z):\n",
    "        return (x * y)//z\n"
   ]
  },
  {
   "cell_type": "code",
   "execution_count": 19,
   "id": "d27038c4",
   "metadata": {},
   "outputs": [],
   "source": [
    "z=MyClass(4,6)"
   ]
  },
  {
   "cell_type": "code",
   "execution_count": 20,
   "id": "83de26e5",
   "metadata": {},
   "outputs": [
    {
     "data": {
      "text/plain": [
       "40"
      ]
     },
     "execution_count": 20,
     "metadata": {},
     "output_type": "execute_result"
    }
   ],
   "source": [
    "z.foo(5,8)"
   ]
  },
  {
   "cell_type": "code",
   "execution_count": 21,
   "id": "c19bce3e",
   "metadata": {},
   "outputs": [
    {
     "data": {
      "text/plain": [
       "'pavankumar'"
      ]
     },
     "execution_count": 21,
     "metadata": {},
     "output_type": "execute_result"
    }
   ],
   "source": [
    "z.foo('pavan','kumar')"
   ]
  },
  {
   "cell_type": "markdown",
   "id": "1b0bb1ed",
   "metadata": {},
   "source": [
    "# constructor overloading"
   ]
  },
  {
   "cell_type": "code",
   "execution_count": 22,
   "id": "8b3f6f16",
   "metadata": {},
   "outputs": [],
   "source": [
    "class Myclass:\n",
    "    \n",
    "    @dispatch(int,int)\n",
    "    def __init__(self,a,b):\n",
    "        self.x=a*b\n",
    "        \n",
    "    @dispatch(str,str)\n",
    "    def __init__(self,fname,lname):\n",
    "        \n",
    "        self.name=fname+' '+lname"
   ]
  },
  {
   "cell_type": "code",
   "execution_count": 23,
   "id": "c6d61513",
   "metadata": {},
   "outputs": [],
   "source": [
    "f=Myclass(1,9)"
   ]
  },
  {
   "cell_type": "code",
   "execution_count": 24,
   "id": "41dd8873",
   "metadata": {},
   "outputs": [
    {
     "data": {
      "text/plain": [
       "9"
      ]
     },
     "execution_count": 24,
     "metadata": {},
     "output_type": "execute_result"
    }
   ],
   "source": [
    "f.x"
   ]
  },
  {
   "cell_type": "code",
   "execution_count": 25,
   "id": "a5358ca1",
   "metadata": {},
   "outputs": [],
   "source": [
    "class parent:\n",
    "    @dispatch(int,int)\n",
    "    def __init__(self,a,b):\n",
    "        self.x=a*b\n",
    "        \n",
    "    @dispatch(str,str)\n",
    "    def __init__(self,fname,lname):\n",
    "        \n",
    "        self.name=fname+' '+lname\n",
    "    \n",
    "    @dispatch(int,int)   \n",
    "    def foo(self,x,y):\n",
    "        return x * y\n",
    "    \n",
    "    @dispatch(set,set)\n",
    "    def foo(self,m,n):\n",
    "        return m.union(n)\n",
    "    \n",
    "    @dispatch(str,str)\n",
    "    def foo(self,m,n):\n",
    "        return m+n\n",
    "        \n",
    "    @dispatch(int,int,int)   \n",
    "    def foo(self,x,y,z):\n",
    "        return (x * y)//z\n",
    "    \n",
    "    @dispatch(list,list)   \n",
    "    def foo(self,m,n):\n",
    "        return [i*j for i,j in zip(m,n)]\n",
    "    \n",
    "        \n"
   ]
  },
  {
   "cell_type": "code",
   "execution_count": 26,
   "id": "d2a0fce0",
   "metadata": {},
   "outputs": [],
   "source": [
    "class Child(parent):\n",
    "    pass"
   ]
  },
  {
   "cell_type": "code",
   "execution_count": 27,
   "id": "4e130bcf",
   "metadata": {},
   "outputs": [],
   "source": [
    "x=Child('abc','xyz')"
   ]
  },
  {
   "cell_type": "code",
   "execution_count": 28,
   "id": "844c0eb7",
   "metadata": {},
   "outputs": [
    {
     "data": {
      "text/plain": [
       "'abc xyz'"
      ]
     },
     "execution_count": 28,
     "metadata": {},
     "output_type": "execute_result"
    }
   ],
   "source": [
    "x.name"
   ]
  },
  {
   "cell_type": "markdown",
   "id": "8a3767b9",
   "metadata": {},
   "source": [
    "# Abstraction"
   ]
  },
  {
   "cell_type": "markdown",
   "id": "a484e2bc",
   "metadata": {},
   "source": [
    "\n",
    "* The Process of retrieving / extracting Essential Details without considering Hidden Details is called Data Abstraction.\n",
    "\n",
    "Note:- We can't apply Data Encapsulation on Constructors in Python but whose Initlized Data Memebrs can be encapsulated.\n"
   ]
  },
  {
   "cell_type": "code",
   "execution_count": 30,
   "id": "2bbe7afb",
   "metadata": {},
   "outputs": [],
   "source": [
    "import abc"
   ]
  },
  {
   "cell_type": "code",
   "execution_count": 31,
   "id": "843376d9",
   "metadata": {},
   "outputs": [],
   "source": [
    "from abc import abstractmethod,ABC"
   ]
  },
  {
   "cell_type": "code",
   "execution_count": 32,
   "id": "97f28cec",
   "metadata": {},
   "outputs": [],
   "source": [
    "class Ben10(ABC):\n",
    "    \n",
    "    @abstractmethod\n",
    "    def omniTransformation(self):\n",
    "        '''YO!'''\n",
    "    pass"
   ]
  },
  {
   "cell_type": "code",
   "execution_count": 33,
   "id": "4bffd56d",
   "metadata": {},
   "outputs": [],
   "source": [
    "class DiamondHead(Ben10):\n",
    "    \n",
    "    def omniTransformation(self):\n",
    "        '''DiamondHead!'''\n",
    "        print('DiamondHead Transformation Done!')"
   ]
  },
  {
   "cell_type": "code",
   "execution_count": 34,
   "id": "b388429d",
   "metadata": {},
   "outputs": [],
   "source": [
    "x=DiamondHead()"
   ]
  },
  {
   "cell_type": "code",
   "execution_count": 35,
   "id": "e7440d1c",
   "metadata": {},
   "outputs": [
    {
     "name": "stdout",
     "output_type": "stream",
     "text": [
      "DiamondHead Transformation Done!\n"
     ]
    }
   ],
   "source": [
    "x.omniTransformation()"
   ]
  },
  {
   "cell_type": "code",
   "execution_count": null,
   "id": "1ffeaa57",
   "metadata": {},
   "outputs": [],
   "source": []
  }
 ],
 "metadata": {
  "kernelspec": {
   "display_name": "Python 3 (ipykernel)",
   "language": "python",
   "name": "python3"
  },
  "language_info": {
   "codemirror_mode": {
    "name": "ipython",
    "version": 3
   },
   "file_extension": ".py",
   "mimetype": "text/x-python",
   "name": "python",
   "nbconvert_exporter": "python",
   "pygments_lexer": "ipython3",
   "version": "3.9.13"
  }
 },
 "nbformat": 4,
 "nbformat_minor": 5
}
